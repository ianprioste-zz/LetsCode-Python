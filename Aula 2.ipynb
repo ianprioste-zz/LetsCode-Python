{
 "cells": [
  {
   "cell_type": "markdown",
   "metadata": {},
   "source": [
    "# Aula 2 - Loop"
   ]
  },
  {
   "cell_type": "markdown",
   "metadata": {},
   "source": [
    "## Enquanto (while)\n",
    "\n",
    "Melhor para validação de entradas"
   ]
  },
  {
   "cell_type": "markdown",
   "metadata": {},
   "source": [
    "### Loop Infinito"
   ]
  },
  {
   "cell_type": "code",
   "execution_count": 28,
   "metadata": {},
   "outputs": [
    {
     "name": "stdin",
     "output_type": "stream",
     "text": [
      "Digite o seu nome:  Parar\n"
     ]
    }
   ],
   "source": [
    "while True:\n",
    "    nome = input (\"Digite o seu nome: \")\n",
    "    nome = nome.upper().capitalize()\n",
    "        \n",
    "    if nome == \"Parar\":\n",
    "        break\n",
    "    else: \n",
    "        print (\"oi\", nome)"
   ]
  },
  {
   "cell_type": "markdown",
   "metadata": {},
   "source": [
    "### Loop condicional"
   ]
  },
  {
   "cell_type": "code",
   "execution_count": null,
   "metadata": {},
   "outputs": [],
   "source": [
    "# Loop condicional\n",
    "\n",
    "nome = \"\"\n",
    "while nome != \"Parar\":\n",
    "    nome = input (\"Digite o seu nome: \")\n",
    "    nome = nome.upper().capitalize()\n",
    "    print (\"oi\", nome)\n"
   ]
  },
  {
   "cell_type": "markdown",
   "metadata": {},
   "source": [
    "### Contador"
   ]
  },
  {
   "cell_type": "code",
   "execution_count": 17,
   "metadata": {},
   "outputs": [
    {
     "name": "stdout",
     "output_type": "stream",
     "text": [
      "0\n",
      "1\n",
      "2\n",
      "3\n",
      "4\n",
      "5\n",
      "6\n",
      "7\n",
      "8\n",
      "9\n",
      "10\n"
     ]
    }
   ],
   "source": [
    "i=0\n",
    "while i<=10:\n",
    "    print(i)\n",
    "    i+=1"
   ]
  },
  {
   "cell_type": "markdown",
   "metadata": {},
   "source": [
    "#### Contador Pares"
   ]
  },
  {
   "cell_type": "code",
   "execution_count": 30,
   "metadata": {},
   "outputs": [
    {
     "name": "stdout",
     "output_type": "stream",
     "text": [
      "0\n",
      "2\n",
      "4\n",
      "6\n",
      "8\n",
      "10\n"
     ]
    }
   ],
   "source": [
    "# Contador Pares\n",
    "\n",
    "i=0\n",
    "while i<=10:\n",
    "    print(i)\n",
    "    i+=2"
   ]
  },
  {
   "cell_type": "markdown",
   "metadata": {},
   "source": [
    "#### Contador Impares"
   ]
  },
  {
   "cell_type": "code",
   "execution_count": 31,
   "metadata": {},
   "outputs": [
    {
     "name": "stdout",
     "output_type": "stream",
     "text": [
      "1\n",
      "3\n",
      "5\n",
      "7\n",
      "9\n"
     ]
    }
   ],
   "source": [
    "i=1\n",
    "while i<=10:\n",
    "    print(i)\n",
    "    i+=2"
   ]
  },
  {
   "cell_type": "markdown",
   "metadata": {},
   "source": [
    "# Operador Abreviado"
   ]
  },
  {
   "cell_type": "markdown",
   "metadata": {},
   "source": [
    "x = 3\n",
    "\n",
    "x = x + 2\n",
    "x += 2\n",
    "\n",
    "x = x - 2\n",
    "x -= 2\n",
    "\n",
    "x = x*2\n",
    "x *=2\n",
    "\n",
    "x = x/2\n",
    "x /=2"
   ]
  },
  {
   "cell_type": "markdown",
   "metadata": {},
   "source": [
    "## Números aleatórios"
   ]
  },
  {
   "cell_type": "code",
   "execution_count": 25,
   "metadata": {},
   "outputs": [
    {
     "name": "stdout",
     "output_type": "stream",
     "text": [
      "5\n"
     ]
    }
   ],
   "source": [
    "import random\n",
    "\n",
    "print (random.randint(0,10))"
   ]
  },
  {
   "cell_type": "markdown",
   "metadata": {},
   "source": [
    "# Para cada (FOR) \n",
    "\n",
    "Melhor para contadores e trabalhar com listas."
   ]
  },
  {
   "cell_type": "markdown",
   "metadata": {},
   "source": [
    "### Criando Intervalo"
   ]
  },
  {
   "cell_type": "code",
   "execution_count": 38,
   "metadata": {},
   "outputs": [
    {
     "name": "stdout",
     "output_type": "stream",
     "text": [
      "[0, 1, 2, 3, 4, 5, 6, 7, 8, 9]\n"
     ]
    }
   ],
   "source": [
    "print (list(range(0,10,1)))"
   ]
  },
  {
   "cell_type": "markdown",
   "metadata": {},
   "source": [
    "### Estrutura do FOR"
   ]
  },
  {
   "cell_type": "code",
   "execution_count": 12,
   "metadata": {},
   "outputs": [
    {
     "name": "stdout",
     "output_type": "stream",
     "text": [
      "0\n",
      "1\n"
     ]
    }
   ],
   "source": [
    "# Não precisa inicializar o i \n",
    "\n",
    "for i in range (2):\n",
    "    print (i)"
   ]
  },
  {
   "cell_type": "markdown",
   "metadata": {},
   "source": [
    "### Lista"
   ]
  },
  {
   "cell_type": "code",
   "execution_count": 8,
   "metadata": {},
   "outputs": [
    {
     "name": "stdout",
     "output_type": "stream",
     "text": [
      "[0, 3, 5, 9]\n",
      "0\n",
      "9\n"
     ]
    }
   ],
   "source": [
    "notas = [0, 3, 5, 9]\n",
    "print(notas)\n",
    "\n",
    "#Primeiro\n",
    "print(notas[0])\n",
    "\n",
    "#Último\n",
    "print(notas[-1])"
   ]
  },
  {
   "cell_type": "markdown",
   "metadata": {},
   "source": [
    "### Lista com 'while'"
   ]
  },
  {
   "cell_type": "code",
   "execution_count": 14,
   "metadata": {},
   "outputs": [
    {
     "name": "stdout",
     "output_type": "stream",
     "text": [
      "[0, 3, 5, 9]\n",
      "0\n",
      "3\n",
      "5\n",
      "9\n"
     ]
    }
   ],
   "source": [
    "notas = [0, 3, 5, 9]\n",
    "print(notas)\n",
    "\n",
    "i = 0\n",
    "while i < len(notas):\n",
    "    print (notas[i])\n",
    "    i+=1"
   ]
  },
  {
   "cell_type": "markdown",
   "metadata": {},
   "source": [
    "### Lista com 'for'"
   ]
  },
  {
   "cell_type": "code",
   "execution_count": 19,
   "metadata": {},
   "outputs": [
    {
     "name": "stdout",
     "output_type": "stream",
     "text": [
      "0\n",
      "3\n",
      "5\n",
      "9\n"
     ]
    }
   ],
   "source": [
    "# Quando o indice será utilizado\n",
    "\n",
    "for i in range (len(notas)):\n",
    "    print(notas[i])"
   ]
  },
  {
   "cell_type": "code",
   "execution_count": 17,
   "metadata": {},
   "outputs": [
    {
     "name": "stdout",
     "output_type": "stream",
     "text": [
      "0\n",
      "3\n",
      "5\n",
      "9\n"
     ]
    }
   ],
   "source": [
    "# Quando o indice não será utilizado\n",
    "\n",
    "for nota in notas:\n",
    "    print(nota)"
   ]
  },
  {
   "cell_type": "code",
   "execution_count": 21,
   "metadata": {},
   "outputs": [
    {
     "name": "stdout",
     "output_type": "stream",
     "text": [
      "Nota 0:0\n",
      "Nota 1:3\n",
      "Nota 2:5\n",
      "Nota 3:9\n"
     ]
    }
   ],
   "source": [
    "# Quando o indice e o valor será utilizado\n",
    "for i, nota in enumerate (notas):\n",
    "    print(\"Nota \"+ str(i)+\":\"+str(nota))\n",
    "    "
   ]
  },
  {
   "cell_type": "markdown",
   "metadata": {},
   "source": [
    "### Interação de duas listas"
   ]
  },
  {
   "cell_type": "code",
   "execution_count": 22,
   "metadata": {},
   "outputs": [
    {
     "name": "stdout",
     "output_type": "stream",
     "text": [
      "-1\n",
      "7\n",
      "4\n",
      "4\n"
     ]
    }
   ],
   "source": [
    "lista1 = [0,1,2,3]\n",
    "lista2 = [-1,6,2,1]\n",
    "\n",
    "for i in range(len(lista1)):\n",
    "    print(lista1[i]+lista2[i])"
   ]
  },
  {
   "cell_type": "markdown",
   "metadata": {},
   "source": [
    "## Trabalhando com listas"
   ]
  },
  {
   "cell_type": "markdown",
   "metadata": {},
   "source": [
    "### Tipos de Listas"
   ]
  },
  {
   "cell_type": "code",
   "execution_count": 30,
   "metadata": {},
   "outputs": [
    {
     "name": "stdout",
     "output_type": "stream",
     "text": [
      "5\n"
     ]
    }
   ],
   "source": [
    "#inteiros\n",
    "lista = [1,2,3,4]\n",
    "\n",
    "#reais\n",
    "lista = [1.1,2.1,3.0]\n",
    "\n",
    "#strings\n",
    "lista = [\"ian\", \"joao\"]\n",
    "\n",
    "#Misturado\n",
    "lista = [\"ian\", 27, \"M\", True]\n",
    "\n",
    "lista =[1,2,3,[\"A\",\"B\",\"C\"]]\n",
    "\n",
    "#Lista dentro de lista\n",
    "matriz = [[0,1,2],[3,4,5]]\n",
    "print(matriz[1][2])\n"
   ]
  },
  {
   "cell_type": "markdown",
   "metadata": {},
   "source": [
    "### Adicionar elemento no final da lista\n"
   ]
  },
  {
   "cell_type": "code",
   "execution_count": 25,
   "metadata": {},
   "outputs": [
    {
     "name": "stdout",
     "output_type": "stream",
     "text": [
      "[3, 2]\n"
     ]
    }
   ],
   "source": [
    "notas = []\n",
    "\n",
    "notas.append(3)\n",
    "notas.append(2)\n",
    "\n",
    "print(notas)"
   ]
  },
  {
   "cell_type": "code",
   "execution_count": 26,
   "metadata": {},
   "outputs": [
    {
     "name": "stdin",
     "output_type": "stream",
     "text": [
      "Digite uma nota:  2\n",
      "Digite uma nota:  3\n",
      "Digite uma nota:  0\n",
      "Digite uma nota:  -1\n"
     ]
    },
    {
     "name": "stdout",
     "output_type": "stream",
     "text": [
      "[2, 3, 0]\n"
     ]
    }
   ],
   "source": [
    "notas = []\n",
    "\n",
    "nota = int(input(\"Digite uma nota: \"))\n",
    "\n",
    "while nota !=-1:\n",
    "    notas.append(nota)\n",
    "    nota = int(input(\"Digite uma nota: \"))\n",
    "print (notas)"
   ]
  },
  {
   "cell_type": "markdown",
   "metadata": {},
   "source": [
    "### Adicionar elemento antes de outro elemento"
   ]
  },
  {
   "cell_type": "code",
   "execution_count": 48,
   "metadata": {},
   "outputs": [
    {
     "name": "stdout",
     "output_type": "stream",
     "text": [
      "[2, 3, 5, 7, 11, 13, 19, 23, 29]\n",
      "[2, 10, 3, 5, 7, 11, 13, 19, 23, 29]\n"
     ]
    }
   ],
   "source": [
    "lista = [2,3,5,7,11,13,19,23,29]\n",
    "print (lista)\n",
    "lista.insert(1,10)\n",
    "print (lista)\n"
   ]
  },
  {
   "cell_type": "markdown",
   "metadata": {},
   "source": [
    "### Remover elemento pelo valor"
   ]
  },
  {
   "cell_type": "code",
   "execution_count": 40,
   "metadata": {},
   "outputs": [
    {
     "name": "stdout",
     "output_type": "stream",
     "text": [
      "[2, 3, 5, 7, 11, 13, 19, 23, 29]\n"
     ]
    }
   ],
   "source": [
    "lista.remove(10)\n",
    "print(lista)"
   ]
  },
  {
   "cell_type": "markdown",
   "metadata": {},
   "source": [
    "### Remover valor pelo índice"
   ]
  },
  {
   "cell_type": "code",
   "execution_count": 45,
   "metadata": {},
   "outputs": [
    {
     "name": "stdout",
     "output_type": "stream",
     "text": [
      "[2, 10, 3, 5, 11, 13, 19, 23]\n"
     ]
    }
   ],
   "source": [
    "#Remover da última posição\n",
    "lista.pop()\n",
    "\n",
    "#Remover de uma posição específica\n",
    "lista.pop(4)\n",
    "\n",
    "print (lista)"
   ]
  },
  {
   "cell_type": "markdown",
   "metadata": {},
   "source": [
    "### Limpar lista"
   ]
  },
  {
   "cell_type": "code",
   "execution_count": 47,
   "metadata": {},
   "outputs": [
    {
     "name": "stdout",
     "output_type": "stream",
     "text": [
      "[]\n"
     ]
    }
   ],
   "source": [
    "lista.clear()\n",
    "print (lista)"
   ]
  },
  {
   "cell_type": "markdown",
   "metadata": {},
   "source": [
    "Indice da Lista"
   ]
  },
  {
   "cell_type": "code",
   "execution_count": 49,
   "metadata": {},
   "outputs": [
    {
     "data": {
      "text/plain": [
       "3"
      ]
     },
     "execution_count": 49,
     "metadata": {},
     "output_type": "execute_result"
    }
   ],
   "source": [
    "lista.index(5)"
   ]
  },
  {
   "cell_type": "code",
   "execution_count": 51,
   "metadata": {},
   "outputs": [
    {
     "name": "stdout",
     "output_type": "stream",
     "text": [
      "[2, 10, 3, 5, 7, 11, 13, 19, 23, 29]\n"
     ]
    }
   ],
   "source": [
    "#Inverter lista\n",
    "lista.reverse()\n",
    "print(lista)"
   ]
  },
  {
   "cell_type": "code",
   "execution_count": 58,
   "metadata": {},
   "outputs": [
    {
     "name": "stdout",
     "output_type": "stream",
     "text": [
      "[2, 3, 5, 7, 10, 11, 13, 19, 23, 29]\n",
      "[29, 23, 19, 13, 11, 10, 7, 5, 3, 2]\n"
     ]
    }
   ],
   "source": [
    "#Ordenar do menor para o maior\n",
    "lista.sort()\n",
    "print(lista)\n",
    "\n",
    "#Ordenar do maior para o menor\n",
    "lista.sort(reverse=True)\n",
    "print(lista)\n"
   ]
  },
  {
   "cell_type": "code",
   "execution_count": 62,
   "metadata": {},
   "outputs": [
    {
     "data": {
      "text/plain": [
       "0"
      ]
     },
     "execution_count": 62,
     "metadata": {},
     "output_type": "execute_result"
    }
   ],
   "source": [
    "#Contar elementos\n",
    "lista.count(112)"
   ]
  },
  {
   "cell_type": "code",
   "execution_count": 71,
   "metadata": {},
   "outputs": [
    {
     "name": "stdout",
     "output_type": "stream",
     "text": [
      "[0, 1, 2, 3] [0, 1, 2, 3]\n",
      "[5, 1, 2, 4] [5, 1, 2, 4]\n",
      "[0, 1, 2, 4] [5, 1, 2, 12]\n",
      "[3, 5, 7, 11] [2, 3, 5, 7, 11] [20, 34, 23]\n"
     ]
    }
   ],
   "source": [
    "#cópia rasa\n",
    "lista1 = [0,1,2,3]\n",
    "lista2 = lista1\n",
    "\n",
    "print (lista1,lista2)\n",
    "\n",
    "lista1[0]=5\n",
    "lista2[3]=4\n",
    "print(lista1,lista2)\n",
    "\n",
    "#Cópia - Deixar as listas independentes\n",
    "lista2=lista1.copy()\n",
    "lista1[0]=0\n",
    "lista2[3]=12\n",
    "\n",
    "print (lista1, lista2)\n",
    "\n",
    "#Cópia criando uma nova lista\n",
    "lista = [2,3,5,7,11,19,20,34,23]\n",
    "lista1 = lista[1:5]\n",
    "lista2 = lista[:5]\n",
    "lista3 = lista[6:]\n",
    "lista4 = lista[:]\n",
    "lista5 = lista[0:10:2]\n",
    "\n",
    "print (lista1)\n",
    "print (lsi)\n"
   ]
  },
  {
   "cell_type": "markdown",
   "metadata": {},
   "source": [
    "#### Trabalhando com Matriz"
   ]
  },
  {
   "cell_type": "code",
   "execution_count": 35,
   "metadata": {},
   "outputs": [
    {
     "name": "stdout",
     "output_type": "stream",
     "text": [
      "0 1 2 \n",
      "3 4 5 \n"
     ]
    }
   ],
   "source": [
    "matriz = [[0,1,2],[3,4,5]]\n",
    "\n",
    "for linha in matriz:\n",
    "    for elemento in linha:\n",
    "        print(elemento, end=\" \" )\n",
    "    print()"
   ]
  }
 ],
 "metadata": {
  "kernelspec": {
   "display_name": "Python 3",
   "language": "python",
   "name": "python3"
  },
  "language_info": {
   "codemirror_mode": {
    "name": "ipython",
    "version": 3
   },
   "file_extension": ".py",
   "mimetype": "text/x-python",
   "name": "python",
   "nbconvert_exporter": "python",
   "pygments_lexer": "ipython3",
   "version": "3.7.6"
  }
 },
 "nbformat": 4,
 "nbformat_minor": 4
}
